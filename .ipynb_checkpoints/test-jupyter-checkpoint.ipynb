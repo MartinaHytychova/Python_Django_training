{
 "cells": [
  {
   "cell_type": "code",
   "execution_count": 5,
   "id": "affected-newman",
   "metadata": {},
   "outputs": [
    {
     "data": {
      "text/html": [
       "<div>\n",
       "<style scoped>\n",
       "    .dataframe tbody tr th:only-of-type {\n",
       "        vertical-align: middle;\n",
       "    }\n",
       "\n",
       "    .dataframe tbody tr th {\n",
       "        vertical-align: top;\n",
       "    }\n",
       "\n",
       "    .dataframe thead th {\n",
       "        text-align: right;\n",
       "    }\n",
       "</style>\n",
       "<table border=\"1\" class=\"dataframe\">\n",
       "  <thead>\n",
       "    <tr style=\"text-align: right;\">\n",
       "      <th></th>\n",
       "      <th>Country name</th>\n",
       "      <th>year</th>\n",
       "      <th>Life Ladder</th>\n",
       "      <th>Log GDP per capita</th>\n",
       "      <th>Social support</th>\n",
       "      <th>Healthy life expectancy at birth</th>\n",
       "      <th>Freedom to make life choices</th>\n",
       "      <th>Generosity</th>\n",
       "      <th>Perceptions of corruption</th>\n",
       "      <th>Positive affect</th>\n",
       "      <th>Negative affect</th>\n",
       "    </tr>\n",
       "  </thead>\n",
       "  <tbody>\n",
       "    <tr>\n",
       "      <th>0</th>\n",
       "      <td>Afghanistan</td>\n",
       "      <td>2008</td>\n",
       "      <td>3.723590</td>\n",
       "      <td>7.370100</td>\n",
       "      <td>0.450662</td>\n",
       "      <td>50.799999</td>\n",
       "      <td>0.718114</td>\n",
       "      <td>0.167640</td>\n",
       "      <td>0.881686</td>\n",
       "      <td>0.517637</td>\n",
       "      <td>0.258195</td>\n",
       "    </tr>\n",
       "    <tr>\n",
       "      <th>1</th>\n",
       "      <td>Afghanistan</td>\n",
       "      <td>2009</td>\n",
       "      <td>4.401778</td>\n",
       "      <td>7.539972</td>\n",
       "      <td>0.552308</td>\n",
       "      <td>51.200001</td>\n",
       "      <td>0.678896</td>\n",
       "      <td>0.190099</td>\n",
       "      <td>0.850035</td>\n",
       "      <td>0.583926</td>\n",
       "      <td>0.237092</td>\n",
       "    </tr>\n",
       "    <tr>\n",
       "      <th>2</th>\n",
       "      <td>Afghanistan</td>\n",
       "      <td>2010</td>\n",
       "      <td>4.758381</td>\n",
       "      <td>7.646709</td>\n",
       "      <td>0.539075</td>\n",
       "      <td>51.599998</td>\n",
       "      <td>0.600127</td>\n",
       "      <td>0.120590</td>\n",
       "      <td>0.706766</td>\n",
       "      <td>0.618265</td>\n",
       "      <td>0.275324</td>\n",
       "    </tr>\n",
       "    <tr>\n",
       "      <th>3</th>\n",
       "      <td>Afghanistan</td>\n",
       "      <td>2011</td>\n",
       "      <td>3.831719</td>\n",
       "      <td>7.619532</td>\n",
       "      <td>0.521104</td>\n",
       "      <td>51.919998</td>\n",
       "      <td>0.495901</td>\n",
       "      <td>0.162427</td>\n",
       "      <td>0.731109</td>\n",
       "      <td>0.611387</td>\n",
       "      <td>0.267175</td>\n",
       "    </tr>\n",
       "    <tr>\n",
       "      <th>4</th>\n",
       "      <td>Afghanistan</td>\n",
       "      <td>2012</td>\n",
       "      <td>3.782938</td>\n",
       "      <td>7.705479</td>\n",
       "      <td>0.520637</td>\n",
       "      <td>52.240002</td>\n",
       "      <td>0.530935</td>\n",
       "      <td>0.236032</td>\n",
       "      <td>0.775620</td>\n",
       "      <td>0.710385</td>\n",
       "      <td>0.267919</td>\n",
       "    </tr>\n",
       "    <tr>\n",
       "      <th>...</th>\n",
       "      <td>...</td>\n",
       "      <td>...</td>\n",
       "      <td>...</td>\n",
       "      <td>...</td>\n",
       "      <td>...</td>\n",
       "      <td>...</td>\n",
       "      <td>...</td>\n",
       "      <td>...</td>\n",
       "      <td>...</td>\n",
       "      <td>...</td>\n",
       "      <td>...</td>\n",
       "    </tr>\n",
       "    <tr>\n",
       "      <th>1944</th>\n",
       "      <td>Zimbabwe</td>\n",
       "      <td>2016</td>\n",
       "      <td>3.735400</td>\n",
       "      <td>7.984372</td>\n",
       "      <td>0.768425</td>\n",
       "      <td>54.400002</td>\n",
       "      <td>0.732971</td>\n",
       "      <td>-0.094634</td>\n",
       "      <td>0.723612</td>\n",
       "      <td>0.737636</td>\n",
       "      <td>0.208555</td>\n",
       "    </tr>\n",
       "    <tr>\n",
       "      <th>1945</th>\n",
       "      <td>Zimbabwe</td>\n",
       "      <td>2017</td>\n",
       "      <td>3.638300</td>\n",
       "      <td>8.015738</td>\n",
       "      <td>0.754147</td>\n",
       "      <td>55.000000</td>\n",
       "      <td>0.752826</td>\n",
       "      <td>-0.097645</td>\n",
       "      <td>0.751208</td>\n",
       "      <td>0.806428</td>\n",
       "      <td>0.224051</td>\n",
       "    </tr>\n",
       "    <tr>\n",
       "      <th>1946</th>\n",
       "      <td>Zimbabwe</td>\n",
       "      <td>2018</td>\n",
       "      <td>3.616480</td>\n",
       "      <td>8.048798</td>\n",
       "      <td>0.775388</td>\n",
       "      <td>55.599998</td>\n",
       "      <td>0.762675</td>\n",
       "      <td>-0.068427</td>\n",
       "      <td>0.844209</td>\n",
       "      <td>0.710119</td>\n",
       "      <td>0.211726</td>\n",
       "    </tr>\n",
       "    <tr>\n",
       "      <th>1947</th>\n",
       "      <td>Zimbabwe</td>\n",
       "      <td>2019</td>\n",
       "      <td>2.693523</td>\n",
       "      <td>7.950132</td>\n",
       "      <td>0.759162</td>\n",
       "      <td>56.200001</td>\n",
       "      <td>0.631908</td>\n",
       "      <td>-0.063791</td>\n",
       "      <td>0.830652</td>\n",
       "      <td>0.716004</td>\n",
       "      <td>0.235354</td>\n",
       "    </tr>\n",
       "    <tr>\n",
       "      <th>1948</th>\n",
       "      <td>Zimbabwe</td>\n",
       "      <td>2020</td>\n",
       "      <td>3.159802</td>\n",
       "      <td>7.828757</td>\n",
       "      <td>0.717243</td>\n",
       "      <td>56.799999</td>\n",
       "      <td>0.643303</td>\n",
       "      <td>-0.008696</td>\n",
       "      <td>0.788523</td>\n",
       "      <td>0.702573</td>\n",
       "      <td>0.345736</td>\n",
       "    </tr>\n",
       "  </tbody>\n",
       "</table>\n",
       "<p>1949 rows × 11 columns</p>\n",
       "</div>"
      ],
      "text/plain": [
       "     Country name  year  Life Ladder  Log GDP per capita  Social support  \\\n",
       "0     Afghanistan  2008     3.723590            7.370100        0.450662   \n",
       "1     Afghanistan  2009     4.401778            7.539972        0.552308   \n",
       "2     Afghanistan  2010     4.758381            7.646709        0.539075   \n",
       "3     Afghanistan  2011     3.831719            7.619532        0.521104   \n",
       "4     Afghanistan  2012     3.782938            7.705479        0.520637   \n",
       "...           ...   ...          ...                 ...             ...   \n",
       "1944     Zimbabwe  2016     3.735400            7.984372        0.768425   \n",
       "1945     Zimbabwe  2017     3.638300            8.015738        0.754147   \n",
       "1946     Zimbabwe  2018     3.616480            8.048798        0.775388   \n",
       "1947     Zimbabwe  2019     2.693523            7.950132        0.759162   \n",
       "1948     Zimbabwe  2020     3.159802            7.828757        0.717243   \n",
       "\n",
       "      Healthy life expectancy at birth  Freedom to make life choices  \\\n",
       "0                            50.799999                      0.718114   \n",
       "1                            51.200001                      0.678896   \n",
       "2                            51.599998                      0.600127   \n",
       "3                            51.919998                      0.495901   \n",
       "4                            52.240002                      0.530935   \n",
       "...                                ...                           ...   \n",
       "1944                         54.400002                      0.732971   \n",
       "1945                         55.000000                      0.752826   \n",
       "1946                         55.599998                      0.762675   \n",
       "1947                         56.200001                      0.631908   \n",
       "1948                         56.799999                      0.643303   \n",
       "\n",
       "      Generosity  Perceptions of corruption  Positive affect  Negative affect  \n",
       "0       0.167640                   0.881686         0.517637         0.258195  \n",
       "1       0.190099                   0.850035         0.583926         0.237092  \n",
       "2       0.120590                   0.706766         0.618265         0.275324  \n",
       "3       0.162427                   0.731109         0.611387         0.267175  \n",
       "4       0.236032                   0.775620         0.710385         0.267919  \n",
       "...          ...                        ...              ...              ...  \n",
       "1944   -0.094634                   0.723612         0.737636         0.208555  \n",
       "1945   -0.097645                   0.751208         0.806428         0.224051  \n",
       "1946   -0.068427                   0.844209         0.710119         0.211726  \n",
       "1947   -0.063791                   0.830652         0.716004         0.235354  \n",
       "1948   -0.008696                   0.788523         0.702573         0.345736  \n",
       "\n",
       "[1949 rows x 11 columns]"
      ]
     },
     "execution_count": 5,
     "metadata": {},
     "output_type": "execute_result"
    }
   ],
   "source": [
    "import requests\n",
    "import pandas\n",
    "import matplotlib.pyplot as plt\n",
    "\n",
    "\n",
    "url = \"https://happiness-report.s3.amazonaws.com/2021/DataPanelWHR2021C2.xls\"\n",
    "s = requests.get(url, allow_redirects=True)\n",
    "open('DataPanelWHR2021C2.xls', 'wb').write(s.content)\n",
    "people_list = pandas.read_excel(\"DataPanelWHR2021C2.xls\")\n",
    "people_list"
   ]
  },
  {
   "cell_type": "code",
   "execution_count": 7,
   "id": "monetary-couple",
   "metadata": {},
   "outputs": [
    {
     "data": {
      "text/plain": [
       "Country name\n",
       "Myanmar           0.619015\n",
       "Indonesia         0.397412\n",
       "Thailand          0.381496\n",
       "Gambia            0.320406\n",
       "United Kingdom    0.311526\n",
       "                    ...   \n",
       "Morocco          -0.216585\n",
       "Russia           -0.228733\n",
       "Lithuania        -0.242603\n",
       "Georgia          -0.244032\n",
       "Greece           -0.281102\n",
       "Name: Generosity, Length: 161, dtype: float64"
      ]
     },
     "execution_count": 7,
     "metadata": {},
     "output_type": "execute_result"
    }
   ],
   "source": [
    "people_list.groupby('Country name')['Generosity'].mean().dropna().sort_values(ascending=False)"
   ]
  },
  {
   "cell_type": "code",
   "execution_count": 9,
   "id": "thorough-throw",
   "metadata": {},
   "outputs": [
    {
     "data": {
      "text/plain": [
       "<AxesSubplot:xlabel='Country name'>"
      ]
     },
     "execution_count": 9,
     "metadata": {},
     "output_type": "execute_result"
    },
    {
     "data": {
      "image/png": "[encoded data removed]",
      "text/plain": [
       "<Figure size 432x288 with 1 Axes>"
      ]
     },
     "metadata": {
      "needs_background": "light"
     },
     "output_type": "display_data"
    }
   ],
   "source": [
    "people_list.groupby('Country name')['Generosity'].mean().dropna().sort_values(ascending=False)[:10].plot(kind=\"bar\")"
   ]
  },
  {
   "cell_type": "code",
   "execution_count": 10,
   "id": "orange-favor",
   "metadata": {},
   "outputs": [
    {
     "data": {
      "text/plain": [
       "<AxesSubplot:xlabel='Country name'>"
      ]
     },
     "execution_count": 10,
     "metadata": {},
     "output_type": "execute_result"
    },
    {
     "data": {
      "image/png": "[encoded data removed]",
      "text/plain": [
       "<Figure size 432x288 with 1 Axes>"
      ]
     },
     "metadata": {
      "needs_background": "light"
     },
     "output_type": "display_data"
    }
   ],
   "source": [
    "people_list.groupby('Country name')['Generosity'].mean().dropna().sort_values(ascending=False)[:10].plot()"
   ]
  },
  {
   "cell_type": "code",
   "execution_count": null,
   "id": "right-reference",
   "metadata": {},
   "outputs": [],
   "source": []
  }
 ],
 "metadata": {
  "kernelspec": {
   "display_name": "Python 3",
   "language": "python",
   "name": "python3"
  },
  "language_info": {
   "codemirror_mode": {
    "name": "ipython",
    "version": 3
   },
   "file_extension": ".py",
   "mimetype": "text/x-python",
   "name": "python",
   "nbconvert_exporter": "python",
   "pygments_lexer": "ipython3",
   "version": "3.7.1"
  }
 },
 "nbformat": 4,
 "nbformat_minor": 5
}
